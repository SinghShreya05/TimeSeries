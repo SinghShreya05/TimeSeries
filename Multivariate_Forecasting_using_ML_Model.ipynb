{
  "nbformat": 4,
  "nbformat_minor": 0,
  "metadata": {
    "colab": {
      "name": "Multivariate Forecasting using ML Model.ipynb",
      "provenance": [],
      "collapsed_sections": []
    },
    "kernelspec": {
      "name": "python3",
      "display_name": "Python 3"
    },
    "language_info": {
      "name": "python"
    }
  },
  "cells": [
    {
      "cell_type": "markdown",
      "metadata": {
        "id": "CTvfoK_AWNhe"
      },
      "source": [
        "## MULTIVARIATE FORECASTING\n",
        "\n",
        "**n - univariate forecasters trained on individual columns**\n",
        "\n",
        "\n",
        "```\n",
        "mf = ReducedMultivariateForecaster([\n",
        "    (\"uf1\", ARIMA(), [0, 1]), # (<name>, <forecaster>, <column>)\n",
        "    (\"uf2\", ExponentialSmoothing(), [3]),\n",
        "    (\"uf3\", Theta(), [4])\n",
        "])\n",
        "```\n",
        "**(i)** Into a number of single columns - with each column having a forecaster ex - ARIMA, KNN, Theta, Decision Trees, Exponential Smoothening etc.\n",
        "\n",
        "**(ii)** The rest columns can be segmented into groups of columns. And those forecasters which support proper handling of multi column / multivariate , for ex - VAR etc. \n",
        "\n",
        "Since Deep Learning methods are excluded from this package and included in \"sktime-dl\", I am not mentioning RNN, LSTM's capability of handling time sequences.     \n",
        "\n",
        "What remains is -\n",
        "ML Models such as - Decision Trees, KNN, Linear Regression etc can be trained on them directly.\n",
        "\n",
        "\n",
        "\n",
        "```\n",
        "ex - \n",
        "A | B | C     A_for | B_for | C_for\n",
        "1  | 2 | 3      4   |   5   |   6\n",
        "4 | 5 | 6       7   |   8   |   9\n",
        "7 | 8 | 9       forecasted values\n",
        "```\n",
        "\n"
      ]
    },
    {
      "cell_type": "code",
      "metadata": {
        "id": "OScfL7H9rBvU"
      },
      "source": [
        "import pandas as pd\n",
        "import numpy as np\n",
        "from sklearn.linear_model import LinearRegression\n",
        "from sklearn.neighbors import KNeighborsRegressor\n",
        "from sklearn.tree import DecisionTreeRegressor\n",
        "from numpy import absolute\n",
        "from numpy import mean\n",
        "from numpy import std\n",
        "from sklearn.model_selection import cross_val_score\n",
        "from sklearn.model_selection import RepeatedKFold"
      ],
      "execution_count": null,
      "outputs": []
    },
    {
      "cell_type": "markdown",
      "metadata": {
        "id": "JtCN3Pj_VI0P"
      },
      "source": [
        "### Machine learning algorithms implemented in the scikit-learn that support **multiple outputs** directly are - \n",
        "\n",
        "LinearRegression (and related - Multinomial Logistic Regression)\n",
        "\n",
        "KNeighborsRegressor\n",
        "\n",
        "DecisionTreeRegressor\n",
        "\n",
        "RandomForestRegressor (and related)\n",
        "\n"
      ]
    },
    {
      "cell_type": "code",
      "metadata": {
        "colab": {
          "base_uri": "https://localhost:8080/",
          "height": 190
        },
        "id": "en1-TEIprB8G",
        "outputId": "abd51e83-1a89-4d2d-e976-4f970b6c3d96"
      },
      "source": [
        "data = pd.read_csv(\"/content/drive/MyDrive/Data/for_multi.csv\")\n",
        "print(data.shape)\n",
        "data.head(4)"
      ],
      "execution_count": null,
      "outputs": [
        {
          "output_type": "stream",
          "text": [
            "(2970, 11)\n"
          ],
          "name": "stdout"
        },
        {
          "output_type": "execute_result",
          "data": {
            "text/html": [
              "<div>\n",
              "<style scoped>\n",
              "    .dataframe tbody tr th:only-of-type {\n",
              "        vertical-align: middle;\n",
              "    }\n",
              "\n",
              "    .dataframe tbody tr th {\n",
              "        vertical-align: top;\n",
              "    }\n",
              "\n",
              "    .dataframe thead th {\n",
              "        text-align: right;\n",
              "    }\n",
              "</style>\n",
              "<table border=\"1\" class=\"dataframe\">\n",
              "  <thead>\n",
              "    <tr style=\"text-align: right;\">\n",
              "      <th></th>\n",
              "      <th>Time</th>\n",
              "      <th>Temperature</th>\n",
              "      <th>Rel_Humidity</th>\n",
              "      <th>S1</th>\n",
              "      <th>S2</th>\n",
              "      <th>S3</th>\n",
              "      <th>S4</th>\n",
              "      <th>S5</th>\n",
              "      <th>S6</th>\n",
              "      <th>S7</th>\n",
              "      <th>S8</th>\n",
              "    </tr>\n",
              "  </thead>\n",
              "  <tbody>\n",
              "    <tr>\n",
              "      <th>0</th>\n",
              "      <td>3.0</td>\n",
              "      <td>20.94</td>\n",
              "      <td>35.98</td>\n",
              "      <td>312</td>\n",
              "      <td>280</td>\n",
              "      <td>504</td>\n",
              "      <td>568</td>\n",
              "      <td>528</td>\n",
              "      <td>647</td>\n",
              "      <td>578</td>\n",
              "      <td>664</td>\n",
              "    </tr>\n",
              "    <tr>\n",
              "      <th>1</th>\n",
              "      <td>3.1</td>\n",
              "      <td>20.94</td>\n",
              "      <td>35.98</td>\n",
              "      <td>310</td>\n",
              "      <td>280</td>\n",
              "      <td>504</td>\n",
              "      <td>568</td>\n",
              "      <td>527</td>\n",
              "      <td>647</td>\n",
              "      <td>578</td>\n",
              "      <td>664</td>\n",
              "    </tr>\n",
              "    <tr>\n",
              "      <th>2</th>\n",
              "      <td>3.2</td>\n",
              "      <td>20.94</td>\n",
              "      <td>35.98</td>\n",
              "      <td>311</td>\n",
              "      <td>280</td>\n",
              "      <td>503</td>\n",
              "      <td>567</td>\n",
              "      <td>528</td>\n",
              "      <td>648</td>\n",
              "      <td>577</td>\n",
              "      <td>664</td>\n",
              "    </tr>\n",
              "    <tr>\n",
              "      <th>3</th>\n",
              "      <td>3.3</td>\n",
              "      <td>20.94</td>\n",
              "      <td>35.98</td>\n",
              "      <td>310</td>\n",
              "      <td>280</td>\n",
              "      <td>503</td>\n",
              "      <td>567</td>\n",
              "      <td>527</td>\n",
              "      <td>648</td>\n",
              "      <td>578</td>\n",
              "      <td>665</td>\n",
              "    </tr>\n",
              "  </tbody>\n",
              "</table>\n",
              "</div>"
            ],
            "text/plain": [
              "   Time  Temperature  Rel_Humidity   S1   S2   S3   S4   S5   S6   S7   S8\n",
              "0   3.0        20.94         35.98  312  280  504  568  528  647  578  664\n",
              "1   3.1        20.94         35.98  310  280  504  568  527  647  578  664\n",
              "2   3.2        20.94         35.98  311  280  503  567  528  648  577  664\n",
              "3   3.3        20.94         35.98  310  280  503  567  527  648  578  665"
            ]
          },
          "metadata": {
            "tags": []
          },
          "execution_count": 31
        }
      ]
    },
    {
      "cell_type": "code",
      "metadata": {
        "colab": {
          "base_uri": "https://localhost:8080/",
          "height": 190
        },
        "id": "0vILhJDi1F2w",
        "outputId": "8b9d0524-b8fd-4d97-8ac2-1db2a3aec0cd"
      },
      "source": [
        "target = data.loc[1:,:]\n",
        "print(target.shape)\n",
        "target.head(4)"
      ],
      "execution_count": null,
      "outputs": [
        {
          "output_type": "stream",
          "text": [
            "(2969, 11)\n"
          ],
          "name": "stdout"
        },
        {
          "output_type": "execute_result",
          "data": {
            "text/html": [
              "<div>\n",
              "<style scoped>\n",
              "    .dataframe tbody tr th:only-of-type {\n",
              "        vertical-align: middle;\n",
              "    }\n",
              "\n",
              "    .dataframe tbody tr th {\n",
              "        vertical-align: top;\n",
              "    }\n",
              "\n",
              "    .dataframe thead th {\n",
              "        text-align: right;\n",
              "    }\n",
              "</style>\n",
              "<table border=\"1\" class=\"dataframe\">\n",
              "  <thead>\n",
              "    <tr style=\"text-align: right;\">\n",
              "      <th></th>\n",
              "      <th>Time</th>\n",
              "      <th>Temperature</th>\n",
              "      <th>Rel_Humidity</th>\n",
              "      <th>S1</th>\n",
              "      <th>S2</th>\n",
              "      <th>S3</th>\n",
              "      <th>S4</th>\n",
              "      <th>S5</th>\n",
              "      <th>S6</th>\n",
              "      <th>S7</th>\n",
              "      <th>S8</th>\n",
              "    </tr>\n",
              "  </thead>\n",
              "  <tbody>\n",
              "    <tr>\n",
              "      <th>1</th>\n",
              "      <td>3.1</td>\n",
              "      <td>20.94</td>\n",
              "      <td>35.98</td>\n",
              "      <td>310</td>\n",
              "      <td>280</td>\n",
              "      <td>504</td>\n",
              "      <td>568</td>\n",
              "      <td>527</td>\n",
              "      <td>647</td>\n",
              "      <td>578</td>\n",
              "      <td>664</td>\n",
              "    </tr>\n",
              "    <tr>\n",
              "      <th>2</th>\n",
              "      <td>3.2</td>\n",
              "      <td>20.94</td>\n",
              "      <td>35.98</td>\n",
              "      <td>311</td>\n",
              "      <td>280</td>\n",
              "      <td>503</td>\n",
              "      <td>567</td>\n",
              "      <td>528</td>\n",
              "      <td>648</td>\n",
              "      <td>577</td>\n",
              "      <td>664</td>\n",
              "    </tr>\n",
              "    <tr>\n",
              "      <th>3</th>\n",
              "      <td>3.3</td>\n",
              "      <td>20.94</td>\n",
              "      <td>35.98</td>\n",
              "      <td>310</td>\n",
              "      <td>280</td>\n",
              "      <td>503</td>\n",
              "      <td>567</td>\n",
              "      <td>527</td>\n",
              "      <td>648</td>\n",
              "      <td>578</td>\n",
              "      <td>665</td>\n",
              "    </tr>\n",
              "    <tr>\n",
              "      <th>4</th>\n",
              "      <td>3.4</td>\n",
              "      <td>20.94</td>\n",
              "      <td>35.98</td>\n",
              "      <td>311</td>\n",
              "      <td>280</td>\n",
              "      <td>503</td>\n",
              "      <td>568</td>\n",
              "      <td>528</td>\n",
              "      <td>647</td>\n",
              "      <td>577</td>\n",
              "      <td>664</td>\n",
              "    </tr>\n",
              "  </tbody>\n",
              "</table>\n",
              "</div>"
            ],
            "text/plain": [
              "   Time  Temperature  Rel_Humidity   S1   S2   S3   S4   S5   S6   S7   S8\n",
              "1   3.1        20.94         35.98  310  280  504  568  527  647  578  664\n",
              "2   3.2        20.94         35.98  311  280  503  567  528  648  577  664\n",
              "3   3.3        20.94         35.98  310  280  503  567  527  648  578  665\n",
              "4   3.4        20.94         35.98  311  280  503  568  528  647  577  664"
            ]
          },
          "metadata": {
            "tags": []
          },
          "execution_count": 32
        }
      ]
    },
    {
      "cell_type": "code",
      "metadata": {
        "colab": {
          "base_uri": "https://localhost:8080/"
        },
        "id": "FGUGdBXtrB-q",
        "outputId": "e56ba2c0-4777-4dd7-bf6c-14a34dd58f71"
      },
      "source": [
        "data.drop(\"Time\", inplace=True, axis=1)\n",
        "target.drop(\"Time\", inplace=True, axis=1)\n",
        "target.reset_index(inplace=True, drop=True)"
      ],
      "execution_count": null,
      "outputs": [
        {
          "output_type": "stream",
          "text": [
            "/usr/local/lib/python3.7/dist-packages/pandas/core/frame.py:4174: SettingWithCopyWarning: \n",
            "A value is trying to be set on a copy of a slice from a DataFrame\n",
            "\n",
            "See the caveats in the documentation: https://pandas.pydata.org/pandas-docs/stable/user_guide/indexing.html#returning-a-view-versus-a-copy\n",
            "  errors=errors,\n"
          ],
          "name": "stderr"
        }
      ]
    },
    {
      "cell_type": "code",
      "metadata": {
        "colab": {
          "base_uri": "https://localhost:8080/",
          "height": 173
        },
        "id": "754uJ_wI_fGg",
        "outputId": "f0dd62ce-8a72-4f51-b934-9676667c77c2"
      },
      "source": [
        "target.tail(4)"
      ],
      "execution_count": null,
      "outputs": [
        {
          "output_type": "execute_result",
          "data": {
            "text/html": [
              "<div>\n",
              "<style scoped>\n",
              "    .dataframe tbody tr th:only-of-type {\n",
              "        vertical-align: middle;\n",
              "    }\n",
              "\n",
              "    .dataframe tbody tr th {\n",
              "        vertical-align: top;\n",
              "    }\n",
              "\n",
              "    .dataframe thead th {\n",
              "        text-align: right;\n",
              "    }\n",
              "</style>\n",
              "<table border=\"1\" class=\"dataframe\">\n",
              "  <thead>\n",
              "    <tr style=\"text-align: right;\">\n",
              "      <th></th>\n",
              "      <th>Temperature</th>\n",
              "      <th>Rel_Humidity</th>\n",
              "      <th>S1</th>\n",
              "      <th>S2</th>\n",
              "      <th>S3</th>\n",
              "      <th>S4</th>\n",
              "      <th>S5</th>\n",
              "      <th>S6</th>\n",
              "      <th>S7</th>\n",
              "      <th>S8</th>\n",
              "    </tr>\n",
              "  </thead>\n",
              "  <tbody>\n",
              "    <tr>\n",
              "      <th>2965</th>\n",
              "      <td>20.93</td>\n",
              "      <td>35.74</td>\n",
              "      <td>330</td>\n",
              "      <td>290</td>\n",
              "      <td>535</td>\n",
              "      <td>576</td>\n",
              "      <td>598</td>\n",
              "      <td>746</td>\n",
              "      <td>650</td>\n",
              "      <td>772</td>\n",
              "    </tr>\n",
              "    <tr>\n",
              "      <th>2966</th>\n",
              "      <td>20.93</td>\n",
              "      <td>35.74</td>\n",
              "      <td>330</td>\n",
              "      <td>290</td>\n",
              "      <td>535</td>\n",
              "      <td>575</td>\n",
              "      <td>598</td>\n",
              "      <td>746</td>\n",
              "      <td>650</td>\n",
              "      <td>772</td>\n",
              "    </tr>\n",
              "    <tr>\n",
              "      <th>2967</th>\n",
              "      <td>20.93</td>\n",
              "      <td>35.74</td>\n",
              "      <td>331</td>\n",
              "      <td>290</td>\n",
              "      <td>535</td>\n",
              "      <td>575</td>\n",
              "      <td>598</td>\n",
              "      <td>746</td>\n",
              "      <td>650</td>\n",
              "      <td>772</td>\n",
              "    </tr>\n",
              "    <tr>\n",
              "      <th>2968</th>\n",
              "      <td>20.93</td>\n",
              "      <td>35.74</td>\n",
              "      <td>329</td>\n",
              "      <td>290</td>\n",
              "      <td>535</td>\n",
              "      <td>575</td>\n",
              "      <td>598</td>\n",
              "      <td>745</td>\n",
              "      <td>649</td>\n",
              "      <td>772</td>\n",
              "    </tr>\n",
              "  </tbody>\n",
              "</table>\n",
              "</div>"
            ],
            "text/plain": [
              "      Temperature  Rel_Humidity   S1   S2   S3   S4   S5   S6   S7   S8\n",
              "2965        20.93         35.74  330  290  535  576  598  746  650  772\n",
              "2966        20.93         35.74  330  290  535  575  598  746  650  772\n",
              "2967        20.93         35.74  331  290  535  575  598  746  650  772\n",
              "2968        20.93         35.74  329  290  535  575  598  745  649  772"
            ]
          },
          "metadata": {
            "tags": []
          },
          "execution_count": 34
        }
      ]
    },
    {
      "cell_type": "code",
      "metadata": {
        "colab": {
          "base_uri": "https://localhost:8080/",
          "height": 173
        },
        "id": "tr-As9qE_47R",
        "outputId": "7c63bee7-1816-4a2a-caf3-432a7fe60c15"
      },
      "source": [
        "data.tail(4)"
      ],
      "execution_count": null,
      "outputs": [
        {
          "output_type": "execute_result",
          "data": {
            "text/html": [
              "<div>\n",
              "<style scoped>\n",
              "    .dataframe tbody tr th:only-of-type {\n",
              "        vertical-align: middle;\n",
              "    }\n",
              "\n",
              "    .dataframe tbody tr th {\n",
              "        vertical-align: top;\n",
              "    }\n",
              "\n",
              "    .dataframe thead th {\n",
              "        text-align: right;\n",
              "    }\n",
              "</style>\n",
              "<table border=\"1\" class=\"dataframe\">\n",
              "  <thead>\n",
              "    <tr style=\"text-align: right;\">\n",
              "      <th></th>\n",
              "      <th>Temperature</th>\n",
              "      <th>Rel_Humidity</th>\n",
              "      <th>S1</th>\n",
              "      <th>S2</th>\n",
              "      <th>S3</th>\n",
              "      <th>S4</th>\n",
              "      <th>S5</th>\n",
              "      <th>S6</th>\n",
              "      <th>S7</th>\n",
              "      <th>S8</th>\n",
              "    </tr>\n",
              "  </thead>\n",
              "  <tbody>\n",
              "    <tr>\n",
              "      <th>2966</th>\n",
              "      <td>20.93</td>\n",
              "      <td>35.74</td>\n",
              "      <td>330</td>\n",
              "      <td>290</td>\n",
              "      <td>535</td>\n",
              "      <td>576</td>\n",
              "      <td>598</td>\n",
              "      <td>746</td>\n",
              "      <td>650</td>\n",
              "      <td>772</td>\n",
              "    </tr>\n",
              "    <tr>\n",
              "      <th>2967</th>\n",
              "      <td>20.93</td>\n",
              "      <td>35.74</td>\n",
              "      <td>330</td>\n",
              "      <td>290</td>\n",
              "      <td>535</td>\n",
              "      <td>575</td>\n",
              "      <td>598</td>\n",
              "      <td>746</td>\n",
              "      <td>650</td>\n",
              "      <td>772</td>\n",
              "    </tr>\n",
              "    <tr>\n",
              "      <th>2968</th>\n",
              "      <td>20.93</td>\n",
              "      <td>35.74</td>\n",
              "      <td>331</td>\n",
              "      <td>290</td>\n",
              "      <td>535</td>\n",
              "      <td>575</td>\n",
              "      <td>598</td>\n",
              "      <td>746</td>\n",
              "      <td>650</td>\n",
              "      <td>772</td>\n",
              "    </tr>\n",
              "    <tr>\n",
              "      <th>2969</th>\n",
              "      <td>20.93</td>\n",
              "      <td>35.74</td>\n",
              "      <td>329</td>\n",
              "      <td>290</td>\n",
              "      <td>535</td>\n",
              "      <td>575</td>\n",
              "      <td>598</td>\n",
              "      <td>745</td>\n",
              "      <td>649</td>\n",
              "      <td>772</td>\n",
              "    </tr>\n",
              "  </tbody>\n",
              "</table>\n",
              "</div>"
            ],
            "text/plain": [
              "      Temperature  Rel_Humidity   S1   S2   S3   S4   S5   S6   S7   S8\n",
              "2966        20.93         35.74  330  290  535  576  598  746  650  772\n",
              "2967        20.93         35.74  330  290  535  575  598  746  650  772\n",
              "2968        20.93         35.74  331  290  535  575  598  746  650  772\n",
              "2969        20.93         35.74  329  290  535  575  598  745  649  772"
            ]
          },
          "metadata": {
            "tags": []
          },
          "execution_count": 35
        }
      ]
    },
    {
      "cell_type": "code",
      "metadata": {
        "colab": {
          "base_uri": "https://localhost:8080/"
        },
        "id": "fXCx1XRlC_cu",
        "outputId": "397b9459-5350-4b81-8eda-58a3b89d4125"
      },
      "source": [
        "train_x = data.loc[:2232,:]\n",
        "train_y = target.loc[:2232,:]\n",
        "test_x = data.loc[2233:2968,:]\n",
        "test_y = target.loc[2233:,:]\n",
        "print(train_x.shape)\n",
        "print(train_y.shape)\n",
        "print(test_x.shape)\n",
        "print(test_y.shape)"
      ],
      "execution_count": null,
      "outputs": [
        {
          "output_type": "stream",
          "text": [
            "(2233, 10)\n",
            "(2233, 10)\n",
            "(736, 10)\n",
            "(736, 10)\n"
          ],
          "name": "stdout"
        }
      ]
    },
    {
      "cell_type": "code",
      "metadata": {
        "id": "0yKSAvEarCMd",
        "colab": {
          "base_uri": "https://localhost:8080/"
        },
        "outputId": "e522ebfb-1460-43f7-cfa1-0a5def1ad6b8"
      },
      "source": [
        "model = LinearRegression()\n",
        "model.fit(train_x, train_y)\n",
        "model.predict(test_x)"
      ],
      "execution_count": null,
      "outputs": [
        {
          "output_type": "execute_result",
          "data": {
            "text/plain": [
              "array([[  20.93003163,   35.76987339,  391.11606391, ...,  916.86981484,\n",
              "         879.9190154 , 1070.74648586],\n",
              "       [  20.93002039,   35.80903199,  391.43090865, ...,  915.87869502,\n",
              "         880.19864366, 1070.91858569],\n",
              "       [  20.92991744,   35.80877032,  391.36591999, ...,  916.85121145,\n",
              "         879.04712517, 1070.87584695],\n",
              "       ...,\n",
              "       [  20.92983256,   35.73927635,  329.47698949, ...,  745.59491152,\n",
              "         649.84021533,  771.56228304],\n",
              "       [  20.92998649,   35.73968148,  329.38672449, ...,  745.61729449,\n",
              "         649.90537452,  771.57322842],\n",
              "       [  20.9299877 ,   35.7393875 ,  329.77448198, ...,  745.62321329,\n",
              "         650.03900879,  771.67045325]])"
            ]
          },
          "metadata": {
            "tags": []
          },
          "execution_count": 37
        }
      ]
    },
    {
      "cell_type": "code",
      "metadata": {
        "id": "U_at2-rCI3Kp",
        "colab": {
          "base_uri": "https://localhost:8080/"
        },
        "outputId": "79374cc2-dbbd-4517-ab5d-246f94914327"
      },
      "source": [
        "pred_lin = model.predict(test_x)\n",
        "pred_lin[0,0]"
      ],
      "execution_count": null,
      "outputs": [
        {
          "output_type": "execute_result",
          "data": {
            "text/plain": [
              "20.930031629822015"
            ]
          },
          "metadata": {
            "tags": []
          },
          "execution_count": 38
        }
      ]
    },
    {
      "cell_type": "code",
      "metadata": {
        "colab": {
          "base_uri": "https://localhost:8080/"
        },
        "id": "-q2mcS1lJDpq",
        "outputId": "7f7df855-0cf6-4c34-aaf7-d99e708aaafc"
      },
      "source": [
        "pred_lin[0].shape"
      ],
      "execution_count": null,
      "outputs": [
        {
          "output_type": "execute_result",
          "data": {
            "text/plain": [
              "(10,)"
            ]
          },
          "metadata": {
            "tags": []
          },
          "execution_count": 39
        }
      ]
    },
    {
      "cell_type": "code",
      "metadata": {
        "colab": {
          "base_uri": "https://localhost:8080/"
        },
        "id": "pigFK-SgrCUj",
        "outputId": "3abfd4da-237b-42f8-96ca-a81ca2ec1289"
      },
      "source": [
        "model.score(test_x,test_y)"
      ],
      "execution_count": null,
      "outputs": [
        {
          "output_type": "stream",
          "text": [
            "/usr/local/lib/python3.7/dist-packages/sklearn/base.py:434: FutureWarning: The default value of multioutput (not exposed in score method) will change from 'variance_weighted' to 'uniform_average' in 0.23 to keep consistent with 'metrics.r2_score'. To specify the default value manually and avoid the warning, please either call 'metrics.r2_score' directly or make a custom scorer with 'metrics.make_scorer' (the built-in scorer 'r2' uses multioutput='uniform_average').\n",
            "  \"multioutput='uniform_average').\", FutureWarning)\n"
          ],
          "name": "stderr"
        },
        {
          "output_type": "execute_result",
          "data": {
            "text/plain": [
              "0.999843828359222"
            ]
          },
          "metadata": {
            "tags": []
          },
          "execution_count": 40
        }
      ]
    },
    {
      "cell_type": "markdown",
      "metadata": {
        "id": "xZz7JW2xCLVI"
      },
      "source": [
        "# Prediction Strategy in Sktime : \n",
        "\n",
        "\n",
        "1.   **Direct Method** - It involves developing a separate model for each forecast time step.\n",
        "for example : \n",
        "\n",
        "\n",
        "\n",
        "  ```\n",
        "  prediction(t+1) = model1(obs(t-1), obs(t-2), ..., obs(t-n))\n",
        "\n",
        "  prediction(t+2) = model2(obs(t-2), obs(t-3), ..., obs(t-n))\n",
        "  ```\n",
        "\n",
        "\n",
        "2.   **Recursive Method** - It involves using a one-step model multiple times where the prediction for the prior time step is used as an input for making a prediction on the following time step.\n",
        "\n",
        "\n",
        "```\n",
        "  prediction(t+1) = model(obs(t-1), obs(t-2), ..., obs(t-n))\n",
        "\n",
        "  prediction(t+2) = model(prediction(t+1), obs(t-1), ..., obs(t-n))\n",
        "```\n",
        "\n",
        "\n",
        "3.  **Direct-Recursive Hybrid Strategies** - combined to offer the benefits of both methods.\n",
        "\n",
        "```\n",
        "  prediction(t+1) = model1(obs(t-1), obs(t-2), ..., obs(t-n))\n",
        "\n",
        "  prediction(t+2) = model2(prediction(t+1), obs(t-1), ..., obs(t-n))\n",
        "```"
      ]
    },
    {
      "cell_type": "code",
      "metadata": {
        "colab": {
          "base_uri": "https://localhost:8080/"
        },
        "id": "igPS7N_3AaBb",
        "outputId": "b0a51b40-861f-4c85-efd6-d6fd84f6d87b"
      },
      "source": [
        "def recur_multioutput_linreg():\n",
        "  fh_list = []\n",
        "  pred = model.predict([data.loc[2969,:].values])\n",
        "  fh_list.append(pred)\n",
        "\n",
        "  for i in range(5):\n",
        "    pred = model.predict(pred)\n",
        "    fh_list.append(pred)\n",
        "\n",
        "  return fh_list\n",
        "\n",
        "recur_multioutput_linreg()"
      ],
      "execution_count": null,
      "outputs": [
        {
          "output_type": "execute_result",
          "data": {
            "text/plain": [
              "[array([[ 20.93002037,  35.73998474, 328.96733925, 290.42110072,\n",
              "         534.87471414, 575.50633171, 597.4680537 , 744.60603609,\n",
              "         648.77555516, 771.45760689]]),\n",
              " array([[ 20.92996354,  35.73998728, 328.96176516, 290.67842382,\n",
              "         534.76621953, 575.88296308, 597.00284001, 744.20259253,\n",
              "         648.52615316, 770.90947335]]),\n",
              " array([[ 20.92985155,  35.73997825, 328.9630901 , 290.82482379,\n",
              "         534.67138333, 576.16604832, 596.58679025, 743.79302036,\n",
              "         648.26261008, 770.36289736]]),\n",
              " array([[ 20.92970058,  35.73994431, 328.96502891, 290.896587  ,\n",
              "         534.58610265, 576.38100407, 596.2073335 , 743.37967179,\n",
              "         647.99093714, 769.82159442]]),\n",
              " array([[ 20.92952272,  35.73988024, 328.96545806, 290.9185774 ,\n",
              "         534.50708974, 576.54587084, 595.8554473 , 742.96422317,\n",
              "         647.71489896, 769.28755485]]),\n",
              " array([[ 20.92932699,  35.73978532, 328.96362814, 290.90778373,\n",
              "         534.43201479, 576.67354464, 595.52462339, 742.54788085,\n",
              "         647.43699794, 768.76181173]])]"
            ]
          },
          "metadata": {
            "tags": []
          },
          "execution_count": 41
        }
      ]
    },
    {
      "cell_type": "code",
      "metadata": {
        "id": "LmRIK3DFrCXW",
        "colab": {
          "base_uri": "https://localhost:8080/"
        },
        "outputId": "fde099ca-834f-4f04-ce31-e2fc0263ede7"
      },
      "source": [
        "model_k = KNeighborsRegressor()\n",
        "model_k.fit(train_x, train_y)\n",
        "model_k.predict(test_x)"
      ],
      "execution_count": null,
      "outputs": [
        {
          "output_type": "execute_result",
          "data": {
            "text/plain": [
              "array([[  20.93,   35.77,  392.  , ...,  917.2 ,  881.2 , 1071.  ],\n",
              "       [  20.93,   35.77,  392.  , ...,  917.2 ,  881.2 , 1071.  ],\n",
              "       [  20.93,   35.77,  392.  , ...,  917.2 ,  881.2 , 1071.  ],\n",
              "       ...,\n",
              "       [  20.92,   35.74,  330.6 , ...,  678.2 ,  675.8 ,  791.4 ],\n",
              "       [  20.92,   35.74,  330.6 , ...,  678.2 ,  675.8 ,  791.4 ],\n",
              "       [  20.92,   35.74,  330.6 , ...,  678.2 ,  675.8 ,  791.4 ]])"
            ]
          },
          "metadata": {
            "tags": []
          },
          "execution_count": 42
        }
      ]
    },
    {
      "cell_type": "code",
      "metadata": {
        "colab": {
          "base_uri": "https://localhost:8080/"
        },
        "id": "nwxMPh4jrCgg",
        "outputId": "30548613-5c33-4ccc-a87d-d19c0ba64afe"
      },
      "source": [
        "model_k.score(test_x,test_y)"
      ],
      "execution_count": null,
      "outputs": [
        {
          "output_type": "stream",
          "text": [
            "/usr/local/lib/python3.7/dist-packages/sklearn/base.py:434: FutureWarning: The default value of multioutput (not exposed in score method) will change from 'variance_weighted' to 'uniform_average' in 0.23 to keep consistent with 'metrics.r2_score'. To specify the default value manually and avoid the warning, please either call 'metrics.r2_score' directly or make a custom scorer with 'metrics.make_scorer' (the built-in scorer 'r2' uses multioutput='uniform_average').\n",
            "  \"multioutput='uniform_average').\", FutureWarning)\n"
          ],
          "name": "stderr"
        },
        {
          "output_type": "execute_result",
          "data": {
            "text/plain": [
              "0.8245281486198375"
            ]
          },
          "metadata": {
            "tags": []
          },
          "execution_count": 43
        }
      ]
    },
    {
      "cell_type": "code",
      "metadata": {
        "colab": {
          "base_uri": "https://localhost:8080/"
        },
        "id": "Yzo0gTKLEkAz",
        "outputId": "f305828f-4f18-45ab-d8c7-d1b18e20108a"
      },
      "source": [
        "def recur_multioutput_linreg():\n",
        "  fh_list = []\n",
        "  pred = model_k.predict([data.loc[2969,:].values])\n",
        "  fh_list.append(pred)\n",
        "\n",
        "  for i in range(5):\n",
        "    pred = model_k.predict(pred)\n",
        "    fh_list.append(pred)\n",
        "\n",
        "  return fh_list\n",
        "\n",
        "recur_multioutput_linreg()"
      ],
      "execution_count": null,
      "outputs": [
        {
          "output_type": "execute_result",
          "data": {
            "text/plain": [
              "[array([[ 20.92,  35.74, 330.6 , 285.  , 533.2 , 571.2 , 557.4 , 678.2 ,\n",
              "         675.8 , 791.4 ]]),\n",
              " array([[ 20.92,  35.74, 330.8 , 284.8 , 533.2 , 571.2 , 558.  , 678.6 ,\n",
              "         676.8 , 792.6 ]]),\n",
              " array([[ 20.92,  35.74, 331.  , 285.  , 533.6 , 571.4 , 558.4 , 679.  ,\n",
              "         678.2 , 794.4 ]]),\n",
              " array([[ 20.92,  35.74, 331.  , 285.  , 534.  , 571.2 , 559.  , 679.6 ,\n",
              "         679.8 , 796.2 ]]),\n",
              " array([[ 20.92,  35.74, 331.4 , 285.  , 534.4 , 571.2 , 559.4 , 680.4 ,\n",
              "         681.2 , 798.  ]]),\n",
              " array([[ 20.92,  35.74, 331.6 , 285.2 , 535.  , 571.2 , 559.8 , 681.  ,\n",
              "         682.8 , 800.  ]])]"
            ]
          },
          "metadata": {
            "tags": []
          },
          "execution_count": 44
        }
      ]
    },
    {
      "cell_type": "code",
      "metadata": {
        "colab": {
          "base_uri": "https://localhost:8080/"
        },
        "id": "oaJ2-5gqFGLO",
        "outputId": "4f4f0c37-78a6-4aef-bd8c-d6a2d5066108"
      },
      "source": [
        "model_d = DecisionTreeRegressor()\n",
        "model_d.fit(train_x, train_y)\n",
        "model_d.predict(test_x)"
      ],
      "execution_count": null,
      "outputs": [
        {
          "output_type": "execute_result",
          "data": {
            "text/plain": [
              "array([[  20.93,   35.77,  392.  , ...,  917.  ,  880.  , 1071.  ],\n",
              "       [  20.93,   35.77,  391.  , ...,  917.  ,  880.  , 1071.  ],\n",
              "       [  20.93,   35.77,  392.  , ...,  917.  ,  880.  , 1071.  ],\n",
              "       ...,\n",
              "       [  20.92,   35.74,  330.  , ...,  676.  ,  671.  ,  784.  ],\n",
              "       [  20.92,   35.74,  330.  , ...,  676.  ,  671.  ,  784.  ],\n",
              "       [  20.92,   35.74,  330.  , ...,  676.  ,  671.  ,  784.  ]])"
            ]
          },
          "metadata": {
            "tags": []
          },
          "execution_count": 45
        }
      ]
    },
    {
      "cell_type": "code",
      "metadata": {
        "colab": {
          "base_uri": "https://localhost:8080/"
        },
        "id": "yCmDtToQFlvx",
        "outputId": "59c3784b-68cd-4286-8653-3a4e5f29550e"
      },
      "source": [
        "model_d.score(test_x,test_y)"
      ],
      "execution_count": null,
      "outputs": [
        {
          "output_type": "stream",
          "text": [
            "/usr/local/lib/python3.7/dist-packages/sklearn/base.py:434: FutureWarning: The default value of multioutput (not exposed in score method) will change from 'variance_weighted' to 'uniform_average' in 0.23 to keep consistent with 'metrics.r2_score'. To specify the default value manually and avoid the warning, please either call 'metrics.r2_score' directly or make a custom scorer with 'metrics.make_scorer' (the built-in scorer 'r2' uses multioutput='uniform_average').\n",
            "  \"multioutput='uniform_average').\", FutureWarning)\n"
          ],
          "name": "stderr"
        },
        {
          "output_type": "execute_result",
          "data": {
            "text/plain": [
              "0.7873301241121027"
            ]
          },
          "metadata": {
            "tags": []
          },
          "execution_count": 46
        }
      ]
    },
    {
      "cell_type": "code",
      "metadata": {
        "colab": {
          "base_uri": "https://localhost:8080/"
        },
        "id": "G7kbaVqEEzOR",
        "outputId": "b1428a72-c658-4d59-91b8-20c089622ad7"
      },
      "source": [
        "def recur_multioutput_linreg():\n",
        "  fh_list = []\n",
        "  pred = model_d.predict([data.loc[2969,:].values])\n",
        "  fh_list.append(pred)\n",
        "\n",
        "  for i in range(5):\n",
        "    pred = model_d.predict(pred)\n",
        "    fh_list.append(pred)\n",
        "\n",
        "  return fh_list\n",
        "\n",
        "recur_multioutput_linreg()"
      ],
      "execution_count": null,
      "outputs": [
        {
          "output_type": "execute_result",
          "data": {
            "text/plain": [
              "[array([[ 20.92,  35.74, 330.  , 285.  , 531.  , 571.  , 555.  , 676.  ,\n",
              "         671.  , 784.  ]]),\n",
              " array([[ 20.92,  35.74, 329.  , 284.  , 531.  , 571.  , 556.  , 677.  ,\n",
              "         671.  , 786.  ]]),\n",
              " array([[ 20.92,  35.74, 330.  , 285.  , 533.  , 571.  , 556.  , 677.  ,\n",
              "         673.  , 788.  ]]),\n",
              " array([[ 20.92,  35.74, 330.  , 285.  , 533.  , 571.  , 557.  , 678.  ,\n",
              "         674.  , 789.  ]]),\n",
              " array([[ 20.92,  35.74, 331.  , 285.  , 533.  , 572.  , 557.  , 678.  ,\n",
              "         675.  , 791.  ]]),\n",
              " array([[ 20.92,  35.74, 330.  , 285.  , 533.  , 571.  , 558.  , 678.  ,\n",
              "         677.  , 793.  ]])]"
            ]
          },
          "metadata": {
            "tags": []
          },
          "execution_count": 47
        }
      ]
    },
    {
      "cell_type": "code",
      "metadata": {
        "id": "zkNYNP9SFpME",
        "colab": {
          "base_uri": "https://localhost:8080/"
        },
        "outputId": "0f0f8199-3247-4b59-d22c-6ab269d774bc"
      },
      "source": [
        "model_cross = DecisionTreeRegressor()\n",
        "cv = RepeatedKFold(n_splits=10, n_repeats=3, random_state=1)\n",
        "n_scores = cross_val_score(model_cross, train_x, train_y, scoring='neg_mean_absolute_error', cv=cv, n_jobs=-1)\n",
        "n_scores = absolute(n_scores)\n",
        "# Mean Absolute error\n",
        "print('MAE: %.3f (%.3f)' % (mean(n_scores), std(n_scores)))"
      ],
      "execution_count": null,
      "outputs": [
        {
          "output_type": "stream",
          "text": [
            "MAE: 0.420 (0.016)\n"
          ],
          "name": "stdout"
        }
      ]
    },
    {
      "cell_type": "code",
      "metadata": {
        "colab": {
          "base_uri": "https://localhost:8080/"
        },
        "id": "J8B8RtSFJRCX",
        "outputId": "58f4cde3-4250-4cdf-9972-ccc391dbc73e"
      },
      "source": [
        "model.predict([data.loc[2969,:].values])"
      ],
      "execution_count": null,
      "outputs": [
        {
          "output_type": "execute_result",
          "data": {
            "text/plain": [
              "array([[ 20.93002037,  35.73998474, 328.96733925, 290.42110072,\n",
              "        534.87471414, 575.50633171, 597.4680537 , 744.60603609,\n",
              "        648.77555516, 771.45760689]])"
            ]
          },
          "metadata": {
            "tags": []
          },
          "execution_count": 49
        }
      ]
    },
    {
      "cell_type": "code",
      "metadata": {
        "colab": {
          "base_uri": "https://localhost:8080/"
        },
        "id": "_6fTdJd6J-bo",
        "outputId": "cfb10e84-18c8-46c8-bd93-f903179d3917"
      },
      "source": [
        "# Forecasting (LinearRegression Model and can be extended to any model we will be using)\n",
        "fh_list = []\n",
        "pred = model.predict([data.loc[2969,:].values])\n",
        "fh_list.append(pred)\n",
        "\n",
        "for i in range(5):\n",
        "  pred = model.predict(pred)\n",
        "  fh_list.append(pred)\n",
        "\n",
        "fh_list"
      ],
      "execution_count": null,
      "outputs": [
        {
          "output_type": "execute_result",
          "data": {
            "text/plain": [
              "[array([[ 20.93002037,  35.73998474, 328.96733925, 290.42110072,\n",
              "         534.87471414, 575.50633171, 597.4680537 , 744.60603609,\n",
              "         648.77555516, 771.45760689]]),\n",
              " array([[ 20.92996354,  35.73998728, 328.96176516, 290.67842382,\n",
              "         534.76621953, 575.88296308, 597.00284001, 744.20259253,\n",
              "         648.52615316, 770.90947335]]),\n",
              " array([[ 20.92985155,  35.73997825, 328.9630901 , 290.82482379,\n",
              "         534.67138333, 576.16604832, 596.58679025, 743.79302036,\n",
              "         648.26261008, 770.36289736]]),\n",
              " array([[ 20.92970058,  35.73994431, 328.96502891, 290.896587  ,\n",
              "         534.58610265, 576.38100407, 596.2073335 , 743.37967179,\n",
              "         647.99093714, 769.82159442]]),\n",
              " array([[ 20.92952272,  35.73988024, 328.96545806, 290.9185774 ,\n",
              "         534.50708974, 576.54587084, 595.8554473 , 742.96422317,\n",
              "         647.71489896, 769.28755485]]),\n",
              " array([[ 20.92932699,  35.73978532, 328.96362814, 290.90778373,\n",
              "         534.43201479, 576.67354464, 595.52462339, 742.54788085,\n",
              "         647.43699794, 768.76181173]])]"
            ]
          },
          "metadata": {
            "tags": []
          },
          "execution_count": 50
        }
      ]
    }
  ]
}