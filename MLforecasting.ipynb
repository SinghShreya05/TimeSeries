{
  "nbformat": 4,
  "nbformat_minor": 0,
  "metadata": {
    "colab": {
      "name": "MLforecasting.ipynb",
      "provenance": [],
      "collapsed_sections": []
    },
    "kernelspec": {
      "name": "python3",
      "display_name": "Python 3"
    },
    "language_info": {
      "name": "python"
    }
  },
  "cells": [
    {
      "cell_type": "code",
      "metadata": {
        "id": "OScfL7H9rBvU"
      },
      "source": [
        "import pandas as pd\n",
        "import numpy as np"
      ],
      "execution_count": 86,
      "outputs": []
    },
    {
      "cell_type": "code",
      "metadata": {
        "colab": {
          "base_uri": "https://localhost:8080/",
          "height": 173
        },
        "id": "en1-TEIprB8G",
        "outputId": "3103da73-920e-41b3-b3d2-a2ade8c0a0db"
      },
      "source": [
        "data = pd.read_csv(\"/content/drive/MyDrive/Data/for_multi.csv\")\n",
        "data.head(4)"
      ],
      "execution_count": 87,
      "outputs": [
        {
          "output_type": "execute_result",
          "data": {
            "text/html": [
              "<div>\n",
              "<style scoped>\n",
              "    .dataframe tbody tr th:only-of-type {\n",
              "        vertical-align: middle;\n",
              "    }\n",
              "\n",
              "    .dataframe tbody tr th {\n",
              "        vertical-align: top;\n",
              "    }\n",
              "\n",
              "    .dataframe thead th {\n",
              "        text-align: right;\n",
              "    }\n",
              "</style>\n",
              "<table border=\"1\" class=\"dataframe\">\n",
              "  <thead>\n",
              "    <tr style=\"text-align: right;\">\n",
              "      <th></th>\n",
              "      <th>Time</th>\n",
              "      <th>Temperature</th>\n",
              "      <th>Rel_Humidity</th>\n",
              "      <th>S1</th>\n",
              "      <th>S2</th>\n",
              "      <th>S3</th>\n",
              "      <th>S4</th>\n",
              "      <th>S5</th>\n",
              "      <th>S6</th>\n",
              "      <th>S7</th>\n",
              "      <th>S8</th>\n",
              "    </tr>\n",
              "  </thead>\n",
              "  <tbody>\n",
              "    <tr>\n",
              "      <th>0</th>\n",
              "      <td>3.0</td>\n",
              "      <td>20.94</td>\n",
              "      <td>35.98</td>\n",
              "      <td>312</td>\n",
              "      <td>280</td>\n",
              "      <td>504</td>\n",
              "      <td>568</td>\n",
              "      <td>528</td>\n",
              "      <td>647</td>\n",
              "      <td>578</td>\n",
              "      <td>664</td>\n",
              "    </tr>\n",
              "    <tr>\n",
              "      <th>1</th>\n",
              "      <td>3.1</td>\n",
              "      <td>20.94</td>\n",
              "      <td>35.98</td>\n",
              "      <td>310</td>\n",
              "      <td>280</td>\n",
              "      <td>504</td>\n",
              "      <td>568</td>\n",
              "      <td>527</td>\n",
              "      <td>647</td>\n",
              "      <td>578</td>\n",
              "      <td>664</td>\n",
              "    </tr>\n",
              "    <tr>\n",
              "      <th>2</th>\n",
              "      <td>3.2</td>\n",
              "      <td>20.94</td>\n",
              "      <td>35.98</td>\n",
              "      <td>311</td>\n",
              "      <td>280</td>\n",
              "      <td>503</td>\n",
              "      <td>567</td>\n",
              "      <td>528</td>\n",
              "      <td>648</td>\n",
              "      <td>577</td>\n",
              "      <td>664</td>\n",
              "    </tr>\n",
              "    <tr>\n",
              "      <th>3</th>\n",
              "      <td>3.3</td>\n",
              "      <td>20.94</td>\n",
              "      <td>35.98</td>\n",
              "      <td>310</td>\n",
              "      <td>280</td>\n",
              "      <td>503</td>\n",
              "      <td>567</td>\n",
              "      <td>527</td>\n",
              "      <td>648</td>\n",
              "      <td>578</td>\n",
              "      <td>665</td>\n",
              "    </tr>\n",
              "  </tbody>\n",
              "</table>\n",
              "</div>"
            ],
            "text/plain": [
              "   Time  Temperature  Rel_Humidity   S1   S2   S3   S4   S5   S6   S7   S8\n",
              "0   3.0        20.94         35.98  312  280  504  568  528  647  578  664\n",
              "1   3.1        20.94         35.98  310  280  504  568  527  647  578  664\n",
              "2   3.2        20.94         35.98  311  280  503  567  528  648  577  664\n",
              "3   3.3        20.94         35.98  310  280  503  567  527  648  578  665"
            ]
          },
          "metadata": {
            "tags": []
          },
          "execution_count": 87
        }
      ]
    },
    {
      "cell_type": "code",
      "metadata": {
        "colab": {
          "base_uri": "https://localhost:8080/"
        },
        "id": "rjKDN4xvISkT",
        "outputId": "b65f9768-3687-4030-a2fe-a0aee877aab7"
      },
      "source": [
        "data.shape"
      ],
      "execution_count": 128,
      "outputs": [
        {
          "output_type": "execute_result",
          "data": {
            "text/plain": [
              "(2970, 10)"
            ]
          },
          "metadata": {
            "tags": []
          },
          "execution_count": 128
        }
      ]
    },
    {
      "cell_type": "code",
      "metadata": {
        "colab": {
          "base_uri": "https://localhost:8080/",
          "height": 173
        },
        "id": "0vILhJDi1F2w",
        "outputId": "eb9e9d7f-825e-402c-b1ee-062c7b962a38"
      },
      "source": [
        "target = data.loc[1:,:]\n",
        "target.head(4)"
      ],
      "execution_count": 88,
      "outputs": [
        {
          "output_type": "execute_result",
          "data": {
            "text/html": [
              "<div>\n",
              "<style scoped>\n",
              "    .dataframe tbody tr th:only-of-type {\n",
              "        vertical-align: middle;\n",
              "    }\n",
              "\n",
              "    .dataframe tbody tr th {\n",
              "        vertical-align: top;\n",
              "    }\n",
              "\n",
              "    .dataframe thead th {\n",
              "        text-align: right;\n",
              "    }\n",
              "</style>\n",
              "<table border=\"1\" class=\"dataframe\">\n",
              "  <thead>\n",
              "    <tr style=\"text-align: right;\">\n",
              "      <th></th>\n",
              "      <th>Time</th>\n",
              "      <th>Temperature</th>\n",
              "      <th>Rel_Humidity</th>\n",
              "      <th>S1</th>\n",
              "      <th>S2</th>\n",
              "      <th>S3</th>\n",
              "      <th>S4</th>\n",
              "      <th>S5</th>\n",
              "      <th>S6</th>\n",
              "      <th>S7</th>\n",
              "      <th>S8</th>\n",
              "    </tr>\n",
              "  </thead>\n",
              "  <tbody>\n",
              "    <tr>\n",
              "      <th>1</th>\n",
              "      <td>3.1</td>\n",
              "      <td>20.94</td>\n",
              "      <td>35.98</td>\n",
              "      <td>310</td>\n",
              "      <td>280</td>\n",
              "      <td>504</td>\n",
              "      <td>568</td>\n",
              "      <td>527</td>\n",
              "      <td>647</td>\n",
              "      <td>578</td>\n",
              "      <td>664</td>\n",
              "    </tr>\n",
              "    <tr>\n",
              "      <th>2</th>\n",
              "      <td>3.2</td>\n",
              "      <td>20.94</td>\n",
              "      <td>35.98</td>\n",
              "      <td>311</td>\n",
              "      <td>280</td>\n",
              "      <td>503</td>\n",
              "      <td>567</td>\n",
              "      <td>528</td>\n",
              "      <td>648</td>\n",
              "      <td>577</td>\n",
              "      <td>664</td>\n",
              "    </tr>\n",
              "    <tr>\n",
              "      <th>3</th>\n",
              "      <td>3.3</td>\n",
              "      <td>20.94</td>\n",
              "      <td>35.98</td>\n",
              "      <td>310</td>\n",
              "      <td>280</td>\n",
              "      <td>503</td>\n",
              "      <td>567</td>\n",
              "      <td>527</td>\n",
              "      <td>648</td>\n",
              "      <td>578</td>\n",
              "      <td>665</td>\n",
              "    </tr>\n",
              "    <tr>\n",
              "      <th>4</th>\n",
              "      <td>3.4</td>\n",
              "      <td>20.94</td>\n",
              "      <td>35.98</td>\n",
              "      <td>311</td>\n",
              "      <td>280</td>\n",
              "      <td>503</td>\n",
              "      <td>568</td>\n",
              "      <td>528</td>\n",
              "      <td>647</td>\n",
              "      <td>577</td>\n",
              "      <td>664</td>\n",
              "    </tr>\n",
              "  </tbody>\n",
              "</table>\n",
              "</div>"
            ],
            "text/plain": [
              "   Time  Temperature  Rel_Humidity   S1   S2   S3   S4   S5   S6   S7   S8\n",
              "1   3.1        20.94         35.98  310  280  504  568  527  647  578  664\n",
              "2   3.2        20.94         35.98  311  280  503  567  528  648  577  664\n",
              "3   3.3        20.94         35.98  310  280  503  567  527  648  578  665\n",
              "4   3.4        20.94         35.98  311  280  503  568  528  647  577  664"
            ]
          },
          "metadata": {
            "tags": []
          },
          "execution_count": 88
        }
      ]
    },
    {
      "cell_type": "code",
      "metadata": {
        "colab": {
          "base_uri": "https://localhost:8080/"
        },
        "id": "zXyya49OIOoS",
        "outputId": "0b12cfc7-2af9-4184-aae7-4fe576f7728b"
      },
      "source": [
        "target.shape"
      ],
      "execution_count": 127,
      "outputs": [
        {
          "output_type": "execute_result",
          "data": {
            "text/plain": [
              "(2969, 10)"
            ]
          },
          "metadata": {
            "tags": []
          },
          "execution_count": 127
        }
      ]
    },
    {
      "cell_type": "code",
      "metadata": {
        "colab": {
          "base_uri": "https://localhost:8080/"
        },
        "id": "FGUGdBXtrB-q",
        "outputId": "5223e860-b61f-4d71-fd9f-5e4da68b1909"
      },
      "source": [
        "data.drop(\"Time\", inplace=True, axis=1)\n",
        "target.drop(\"Time\", inplace=True, axis=1)\n",
        "target.reset_index(inplace=True, drop=True)"
      ],
      "execution_count": 89,
      "outputs": [
        {
          "output_type": "stream",
          "text": [
            "/usr/local/lib/python3.7/dist-packages/pandas/core/frame.py:4174: SettingWithCopyWarning: \n",
            "A value is trying to be set on a copy of a slice from a DataFrame\n",
            "\n",
            "See the caveats in the documentation: https://pandas.pydata.org/pandas-docs/stable/user_guide/indexing.html#returning-a-view-versus-a-copy\n",
            "  errors=errors,\n"
          ],
          "name": "stderr"
        }
      ]
    },
    {
      "cell_type": "code",
      "metadata": {
        "colab": {
          "base_uri": "https://localhost:8080/",
          "height": 173
        },
        "id": "754uJ_wI_fGg",
        "outputId": "732a7b04-0900-4f32-ab02-859ac11d53a0"
      },
      "source": [
        "target.tail(4)"
      ],
      "execution_count": 90,
      "outputs": [
        {
          "output_type": "execute_result",
          "data": {
            "text/html": [
              "<div>\n",
              "<style scoped>\n",
              "    .dataframe tbody tr th:only-of-type {\n",
              "        vertical-align: middle;\n",
              "    }\n",
              "\n",
              "    .dataframe tbody tr th {\n",
              "        vertical-align: top;\n",
              "    }\n",
              "\n",
              "    .dataframe thead th {\n",
              "        text-align: right;\n",
              "    }\n",
              "</style>\n",
              "<table border=\"1\" class=\"dataframe\">\n",
              "  <thead>\n",
              "    <tr style=\"text-align: right;\">\n",
              "      <th></th>\n",
              "      <th>Temperature</th>\n",
              "      <th>Rel_Humidity</th>\n",
              "      <th>S1</th>\n",
              "      <th>S2</th>\n",
              "      <th>S3</th>\n",
              "      <th>S4</th>\n",
              "      <th>S5</th>\n",
              "      <th>S6</th>\n",
              "      <th>S7</th>\n",
              "      <th>S8</th>\n",
              "    </tr>\n",
              "  </thead>\n",
              "  <tbody>\n",
              "    <tr>\n",
              "      <th>2965</th>\n",
              "      <td>20.93</td>\n",
              "      <td>35.74</td>\n",
              "      <td>330</td>\n",
              "      <td>290</td>\n",
              "      <td>535</td>\n",
              "      <td>576</td>\n",
              "      <td>598</td>\n",
              "      <td>746</td>\n",
              "      <td>650</td>\n",
              "      <td>772</td>\n",
              "    </tr>\n",
              "    <tr>\n",
              "      <th>2966</th>\n",
              "      <td>20.93</td>\n",
              "      <td>35.74</td>\n",
              "      <td>330</td>\n",
              "      <td>290</td>\n",
              "      <td>535</td>\n",
              "      <td>575</td>\n",
              "      <td>598</td>\n",
              "      <td>746</td>\n",
              "      <td>650</td>\n",
              "      <td>772</td>\n",
              "    </tr>\n",
              "    <tr>\n",
              "      <th>2967</th>\n",
              "      <td>20.93</td>\n",
              "      <td>35.74</td>\n",
              "      <td>331</td>\n",
              "      <td>290</td>\n",
              "      <td>535</td>\n",
              "      <td>575</td>\n",
              "      <td>598</td>\n",
              "      <td>746</td>\n",
              "      <td>650</td>\n",
              "      <td>772</td>\n",
              "    </tr>\n",
              "    <tr>\n",
              "      <th>2968</th>\n",
              "      <td>20.93</td>\n",
              "      <td>35.74</td>\n",
              "      <td>329</td>\n",
              "      <td>290</td>\n",
              "      <td>535</td>\n",
              "      <td>575</td>\n",
              "      <td>598</td>\n",
              "      <td>745</td>\n",
              "      <td>649</td>\n",
              "      <td>772</td>\n",
              "    </tr>\n",
              "  </tbody>\n",
              "</table>\n",
              "</div>"
            ],
            "text/plain": [
              "      Temperature  Rel_Humidity   S1   S2   S3   S4   S5   S6   S7   S8\n",
              "2965        20.93         35.74  330  290  535  576  598  746  650  772\n",
              "2966        20.93         35.74  330  290  535  575  598  746  650  772\n",
              "2967        20.93         35.74  331  290  535  575  598  746  650  772\n",
              "2968        20.93         35.74  329  290  535  575  598  745  649  772"
            ]
          },
          "metadata": {
            "tags": []
          },
          "execution_count": 90
        }
      ]
    },
    {
      "cell_type": "code",
      "metadata": {
        "colab": {
          "base_uri": "https://localhost:8080/",
          "height": 173
        },
        "id": "tr-As9qE_47R",
        "outputId": "ca289f3c-9447-408e-e643-b2cd3a7ffdb1"
      },
      "source": [
        "data.tail(4)"
      ],
      "execution_count": 92,
      "outputs": [
        {
          "output_type": "execute_result",
          "data": {
            "text/html": [
              "<div>\n",
              "<style scoped>\n",
              "    .dataframe tbody tr th:only-of-type {\n",
              "        vertical-align: middle;\n",
              "    }\n",
              "\n",
              "    .dataframe tbody tr th {\n",
              "        vertical-align: top;\n",
              "    }\n",
              "\n",
              "    .dataframe thead th {\n",
              "        text-align: right;\n",
              "    }\n",
              "</style>\n",
              "<table border=\"1\" class=\"dataframe\">\n",
              "  <thead>\n",
              "    <tr style=\"text-align: right;\">\n",
              "      <th></th>\n",
              "      <th>Temperature</th>\n",
              "      <th>Rel_Humidity</th>\n",
              "      <th>S1</th>\n",
              "      <th>S2</th>\n",
              "      <th>S3</th>\n",
              "      <th>S4</th>\n",
              "      <th>S5</th>\n",
              "      <th>S6</th>\n",
              "      <th>S7</th>\n",
              "      <th>S8</th>\n",
              "    </tr>\n",
              "  </thead>\n",
              "  <tbody>\n",
              "    <tr>\n",
              "      <th>2966</th>\n",
              "      <td>20.93</td>\n",
              "      <td>35.74</td>\n",
              "      <td>330</td>\n",
              "      <td>290</td>\n",
              "      <td>535</td>\n",
              "      <td>576</td>\n",
              "      <td>598</td>\n",
              "      <td>746</td>\n",
              "      <td>650</td>\n",
              "      <td>772</td>\n",
              "    </tr>\n",
              "    <tr>\n",
              "      <th>2967</th>\n",
              "      <td>20.93</td>\n",
              "      <td>35.74</td>\n",
              "      <td>330</td>\n",
              "      <td>290</td>\n",
              "      <td>535</td>\n",
              "      <td>575</td>\n",
              "      <td>598</td>\n",
              "      <td>746</td>\n",
              "      <td>650</td>\n",
              "      <td>772</td>\n",
              "    </tr>\n",
              "    <tr>\n",
              "      <th>2968</th>\n",
              "      <td>20.93</td>\n",
              "      <td>35.74</td>\n",
              "      <td>331</td>\n",
              "      <td>290</td>\n",
              "      <td>535</td>\n",
              "      <td>575</td>\n",
              "      <td>598</td>\n",
              "      <td>746</td>\n",
              "      <td>650</td>\n",
              "      <td>772</td>\n",
              "    </tr>\n",
              "    <tr>\n",
              "      <th>2969</th>\n",
              "      <td>20.93</td>\n",
              "      <td>35.74</td>\n",
              "      <td>329</td>\n",
              "      <td>290</td>\n",
              "      <td>535</td>\n",
              "      <td>575</td>\n",
              "      <td>598</td>\n",
              "      <td>745</td>\n",
              "      <td>649</td>\n",
              "      <td>772</td>\n",
              "    </tr>\n",
              "  </tbody>\n",
              "</table>\n",
              "</div>"
            ],
            "text/plain": [
              "      Temperature  Rel_Humidity   S1   S2   S3   S4   S5   S6   S7   S8\n",
              "2966        20.93         35.74  330  290  535  576  598  746  650  772\n",
              "2967        20.93         35.74  330  290  535  575  598  746  650  772\n",
              "2968        20.93         35.74  331  290  535  575  598  746  650  772\n",
              "2969        20.93         35.74  329  290  535  575  598  745  649  772"
            ]
          },
          "metadata": {
            "tags": []
          },
          "execution_count": 92
        }
      ]
    },
    {
      "cell_type": "code",
      "metadata": {
        "colab": {
          "base_uri": "https://localhost:8080/"
        },
        "id": "fXCx1XRlC_cu",
        "outputId": "a77f4254-a5e1-4bcb-fa9d-cf511211a636"
      },
      "source": [
        "train_x = data.loc[:2232,:]\n",
        "train_y = target.loc[:2232,:]\n",
        "test_x = data.loc[2233:2968,:]\n",
        "test_y = target.loc[2233:,:]\n",
        "print(train_x.shape)\n",
        "print(train_y.shape)\n",
        "print(test_x.shape)\n",
        "print(test_y.shape)"
      ],
      "execution_count": 106,
      "outputs": [
        {
          "output_type": "stream",
          "text": [
            "(2233, 10)\n",
            "(2233, 10)\n",
            "(736, 10)\n",
            "(736, 10)\n"
          ],
          "name": "stdout"
        }
      ]
    },
    {
      "cell_type": "code",
      "metadata": {
        "id": "0yKSAvEarCMd"
      },
      "source": [
        "from sklearn.linear_model import LinearRegression\n",
        "model = LinearRegression()"
      ],
      "execution_count": 107,
      "outputs": []
    },
    {
      "cell_type": "code",
      "metadata": {
        "colab": {
          "base_uri": "https://localhost:8080/"
        },
        "id": "--Eg6i_YrCPK",
        "outputId": "25362258-88e7-4d22-c9d1-1bc8c8d5cecc"
      },
      "source": [
        "model.fit(train_x, train_y)"
      ],
      "execution_count": 108,
      "outputs": [
        {
          "output_type": "execute_result",
          "data": {
            "text/plain": [
              "LinearRegression(copy_X=True, fit_intercept=True, n_jobs=None, normalize=False)"
            ]
          },
          "metadata": {
            "tags": []
          },
          "execution_count": 108
        }
      ]
    },
    {
      "cell_type": "code",
      "metadata": {
        "colab": {
          "base_uri": "https://localhost:8080/"
        },
        "id": "Xll7a1ndrCR7",
        "outputId": "683fc74e-6c5f-4a46-b6db-604d7cf43dc8"
      },
      "source": [
        "model.predict(test_x)"
      ],
      "execution_count": 109,
      "outputs": [
        {
          "output_type": "execute_result",
          "data": {
            "text/plain": [
              "array([[  20.93003163,   35.76987339,  391.11606391, ...,  916.86981484,\n",
              "         879.9190154 , 1070.74648586],\n",
              "       [  20.93002039,   35.80903199,  391.43090865, ...,  915.87869502,\n",
              "         880.19864366, 1070.91858569],\n",
              "       [  20.92991744,   35.80877032,  391.36591999, ...,  916.85121145,\n",
              "         879.04712517, 1070.87584695],\n",
              "       ...,\n",
              "       [  20.92983256,   35.73927635,  329.47698949, ...,  745.59491152,\n",
              "         649.84021533,  771.56228304],\n",
              "       [  20.92998649,   35.73968148,  329.38672449, ...,  745.61729449,\n",
              "         649.90537452,  771.57322842],\n",
              "       [  20.9299877 ,   35.7393875 ,  329.77448198, ...,  745.62321329,\n",
              "         650.03900879,  771.67045325]])"
            ]
          },
          "metadata": {
            "tags": []
          },
          "execution_count": 109
        }
      ]
    },
    {
      "cell_type": "code",
      "metadata": {
        "id": "U_at2-rCI3Kp"
      },
      "source": [
        "pred_lin = model.predict(test_x)"
      ],
      "execution_count": 129,
      "outputs": []
    },
    {
      "cell_type": "code",
      "metadata": {
        "colab": {
          "base_uri": "https://localhost:8080/"
        },
        "id": "Y6qJTEjSI99U",
        "outputId": "136df3e4-6257-45e0-b46d-6bfd4ebe5af7"
      },
      "source": [
        "pred_lin[0,0]"
      ],
      "execution_count": 130,
      "outputs": [
        {
          "output_type": "execute_result",
          "data": {
            "text/plain": [
              "20.930031629822015"
            ]
          },
          "metadata": {
            "tags": []
          },
          "execution_count": 130
        }
      ]
    },
    {
      "cell_type": "code",
      "metadata": {
        "colab": {
          "base_uri": "https://localhost:8080/"
        },
        "id": "-q2mcS1lJDpq",
        "outputId": "c757dbcf-35ae-4232-d9ec-9b9a0334c04c"
      },
      "source": [
        "pred_lin[0].shape"
      ],
      "execution_count": 132,
      "outputs": [
        {
          "output_type": "execute_result",
          "data": {
            "text/plain": [
              "(10,)"
            ]
          },
          "metadata": {
            "tags": []
          },
          "execution_count": 132
        }
      ]
    },
    {
      "cell_type": "code",
      "metadata": {
        "colab": {
          "base_uri": "https://localhost:8080/"
        },
        "id": "pigFK-SgrCUj",
        "outputId": "c6b5147b-ebdf-4974-8bb1-c44d701afe4f"
      },
      "source": [
        "model.score(test_x,test_y)"
      ],
      "execution_count": 110,
      "outputs": [
        {
          "output_type": "stream",
          "text": [
            "/usr/local/lib/python3.7/dist-packages/sklearn/base.py:434: FutureWarning: The default value of multioutput (not exposed in score method) will change from 'variance_weighted' to 'uniform_average' in 0.23 to keep consistent with 'metrics.r2_score'. To specify the default value manually and avoid the warning, please either call 'metrics.r2_score' directly or make a custom scorer with 'metrics.make_scorer' (the built-in scorer 'r2' uses multioutput='uniform_average').\n",
            "  \"multioutput='uniform_average').\", FutureWarning)\n"
          ],
          "name": "stderr"
        },
        {
          "output_type": "execute_result",
          "data": {
            "text/plain": [
              "0.999843828359222"
            ]
          },
          "metadata": {
            "tags": []
          },
          "execution_count": 110
        }
      ]
    },
    {
      "cell_type": "code",
      "metadata": {
        "id": "LmRIK3DFrCXW"
      },
      "source": [
        "from sklearn.neighbors import KNeighborsRegressor\n",
        "model_k = KNeighborsRegressor()"
      ],
      "execution_count": 111,
      "outputs": []
    },
    {
      "cell_type": "code",
      "metadata": {
        "colab": {
          "base_uri": "https://localhost:8080/"
        },
        "id": "pIEWILt8rCa0",
        "outputId": "b74ea6ba-5d9e-47c6-e5b3-d93397e33d39"
      },
      "source": [
        "model_k.fit(train_x, train_y)"
      ],
      "execution_count": 112,
      "outputs": [
        {
          "output_type": "execute_result",
          "data": {
            "text/plain": [
              "KNeighborsRegressor(algorithm='auto', leaf_size=30, metric='minkowski',\n",
              "                    metric_params=None, n_jobs=None, n_neighbors=5, p=2,\n",
              "                    weights='uniform')"
            ]
          },
          "metadata": {
            "tags": []
          },
          "execution_count": 112
        }
      ]
    },
    {
      "cell_type": "code",
      "metadata": {
        "colab": {
          "base_uri": "https://localhost:8080/"
        },
        "id": "i0yjQm9irCdJ",
        "outputId": "e78bcc50-3230-42ca-9651-55b296c2cc65"
      },
      "source": [
        "model_k.predict(test_x)"
      ],
      "execution_count": 113,
      "outputs": [
        {
          "output_type": "execute_result",
          "data": {
            "text/plain": [
              "array([[  20.93,   35.77,  392.  , ...,  917.2 ,  881.2 , 1071.  ],\n",
              "       [  20.93,   35.77,  392.  , ...,  917.2 ,  881.2 , 1071.  ],\n",
              "       [  20.93,   35.77,  392.  , ...,  917.2 ,  881.2 , 1071.  ],\n",
              "       ...,\n",
              "       [  20.92,   35.74,  330.6 , ...,  678.2 ,  675.8 ,  791.4 ],\n",
              "       [  20.92,   35.74,  330.6 , ...,  678.2 ,  675.8 ,  791.4 ],\n",
              "       [  20.92,   35.74,  330.6 , ...,  678.2 ,  675.8 ,  791.4 ]])"
            ]
          },
          "metadata": {
            "tags": []
          },
          "execution_count": 113
        }
      ]
    },
    {
      "cell_type": "code",
      "metadata": {
        "colab": {
          "base_uri": "https://localhost:8080/"
        },
        "id": "nwxMPh4jrCgg",
        "outputId": "d74e7a5e-3b57-4840-fafb-4964b6b17c37"
      },
      "source": [
        "model_k.score(test_x,test_y)"
      ],
      "execution_count": 114,
      "outputs": [
        {
          "output_type": "stream",
          "text": [
            "/usr/local/lib/python3.7/dist-packages/sklearn/base.py:434: FutureWarning: The default value of multioutput (not exposed in score method) will change from 'variance_weighted' to 'uniform_average' in 0.23 to keep consistent with 'metrics.r2_score'. To specify the default value manually and avoid the warning, please either call 'metrics.r2_score' directly or make a custom scorer with 'metrics.make_scorer' (the built-in scorer 'r2' uses multioutput='uniform_average').\n",
            "  \"multioutput='uniform_average').\", FutureWarning)\n"
          ],
          "name": "stderr"
        },
        {
          "output_type": "execute_result",
          "data": {
            "text/plain": [
              "0.8245281486198375"
            ]
          },
          "metadata": {
            "tags": []
          },
          "execution_count": 114
        }
      ]
    },
    {
      "cell_type": "code",
      "metadata": {
        "colab": {
          "base_uri": "https://localhost:8080/"
        },
        "id": "oaJ2-5gqFGLO",
        "outputId": "6927beb0-f38d-4f11-ee01-624298ee28d9"
      },
      "source": [
        "from sklearn.tree import DecisionTreeRegressor\n",
        "\n",
        "model_d = DecisionTreeRegressor()\n",
        "\n",
        "model_d.fit(train_x, train_y)"
      ],
      "execution_count": 116,
      "outputs": [
        {
          "output_type": "execute_result",
          "data": {
            "text/plain": [
              "DecisionTreeRegressor(ccp_alpha=0.0, criterion='mse', max_depth=None,\n",
              "                      max_features=None, max_leaf_nodes=None,\n",
              "                      min_impurity_decrease=0.0, min_impurity_split=None,\n",
              "                      min_samples_leaf=1, min_samples_split=2,\n",
              "                      min_weight_fraction_leaf=0.0, presort='deprecated',\n",
              "                      random_state=None, splitter='best')"
            ]
          },
          "metadata": {
            "tags": []
          },
          "execution_count": 116
        }
      ]
    },
    {
      "cell_type": "code",
      "metadata": {
        "colab": {
          "base_uri": "https://localhost:8080/"
        },
        "id": "kfIH51hhFbx1",
        "outputId": "ca597886-f834-43df-fb83-ce79ec96c06e"
      },
      "source": [
        "model_d.predict(test_x)"
      ],
      "execution_count": 117,
      "outputs": [
        {
          "output_type": "execute_result",
          "data": {
            "text/plain": [
              "array([[  20.93,   35.77,  392.  , ...,  917.  ,  880.  , 1071.  ],\n",
              "       [  20.93,   35.77,  391.  , ...,  917.  ,  880.  , 1071.  ],\n",
              "       [  20.93,   35.77,  392.  , ...,  917.  ,  880.  , 1071.  ],\n",
              "       ...,\n",
              "       [  20.92,   35.74,  338.  , ...,  702.  ,  715.  ,  850.  ],\n",
              "       [  20.92,   35.74,  338.  , ...,  702.  ,  715.  ,  850.  ],\n",
              "       [  20.92,   35.74,  338.  , ...,  702.  ,  715.  ,  850.  ]])"
            ]
          },
          "metadata": {
            "tags": []
          },
          "execution_count": 117
        }
      ]
    },
    {
      "cell_type": "code",
      "metadata": {
        "colab": {
          "base_uri": "https://localhost:8080/"
        },
        "id": "yCmDtToQFlvx",
        "outputId": "a9374c6d-36aa-4ce2-8453-9677f4cbddf6"
      },
      "source": [
        "model_d.score(test_x,test_y)"
      ],
      "execution_count": 118,
      "outputs": [
        {
          "output_type": "stream",
          "text": [
            "/usr/local/lib/python3.7/dist-packages/sklearn/base.py:434: FutureWarning: The default value of multioutput (not exposed in score method) will change from 'variance_weighted' to 'uniform_average' in 0.23 to keep consistent with 'metrics.r2_score'. To specify the default value manually and avoid the warning, please either call 'metrics.r2_score' directly or make a custom scorer with 'metrics.make_scorer' (the built-in scorer 'r2' uses multioutput='uniform_average').\n",
            "  \"multioutput='uniform_average').\", FutureWarning)\n"
          ],
          "name": "stderr"
        },
        {
          "output_type": "execute_result",
          "data": {
            "text/plain": [
              "0.775136139114446"
            ]
          },
          "metadata": {
            "tags": []
          },
          "execution_count": 118
        }
      ]
    },
    {
      "cell_type": "code",
      "metadata": {
        "id": "zkNYNP9SFpME"
      },
      "source": [
        "from sklearn.model_selection import cross_val_score\n",
        "from sklearn.model_selection import RepeatedKFold"
      ],
      "execution_count": 119,
      "outputs": []
    },
    {
      "cell_type": "code",
      "metadata": {
        "id": "GuJhSMzMF70o"
      },
      "source": [
        "model_cross = DecisionTreeRegressor()"
      ],
      "execution_count": 120,
      "outputs": []
    },
    {
      "cell_type": "code",
      "metadata": {
        "id": "ujFWQqZ-GCAt"
      },
      "source": [
        "cv = RepeatedKFold(n_splits=10, n_repeats=3, random_state=1)"
      ],
      "execution_count": 121,
      "outputs": []
    },
    {
      "cell_type": "code",
      "metadata": {
        "id": "L3VJqLOdGGph"
      },
      "source": [
        "n_scores = cross_val_score(model_cross, train_x, train_y, scoring='neg_mean_absolute_error', cv=cv, n_jobs=-1)"
      ],
      "execution_count": 122,
      "outputs": []
    },
    {
      "cell_type": "code",
      "metadata": {
        "id": "-1NUwkkHGbqL"
      },
      "source": [
        "from numpy import absolute\n",
        "from numpy import mean\n",
        "from numpy import std"
      ],
      "execution_count": 124,
      "outputs": []
    },
    {
      "cell_type": "code",
      "metadata": {
        "id": "ki2tbm7sGUHj"
      },
      "source": [
        "n_scores = absolute(n_scores)"
      ],
      "execution_count": 125,
      "outputs": []
    },
    {
      "cell_type": "code",
      "metadata": {
        "colab": {
          "base_uri": "https://localhost:8080/"
        },
        "id": "UnjhiVusGXt6",
        "outputId": "b43a0f6a-9405-4356-c37f-b8bc2f8eb462"
      },
      "source": [
        "# Mean Absolute error\n",
        "print('MAE: %.3f (%.3f)' % (mean(n_scores), std(n_scores)))"
      ],
      "execution_count": 126,
      "outputs": [
        {
          "output_type": "stream",
          "text": [
            "MAE: 0.422 (0.018)\n"
          ],
          "name": "stdout"
        }
      ]
    },
    {
      "cell_type": "code",
      "metadata": {
        "colab": {
          "base_uri": "https://localhost:8080/"
        },
        "id": "J8B8RtSFJRCX",
        "outputId": "5d63db17-277f-4687-99d6-012a7a79df21"
      },
      "source": [
        "model.predict([data.loc[2969,:].values])"
      ],
      "execution_count": 134,
      "outputs": [
        {
          "output_type": "execute_result",
          "data": {
            "text/plain": [
              "array([[ 20.93002037,  35.73998474, 328.96733925, 290.42110072,\n",
              "        534.87471414, 575.50633171, 597.4680537 , 744.60603609,\n",
              "        648.77555516, 771.45760689]])"
            ]
          },
          "metadata": {
            "tags": []
          },
          "execution_count": 134
        }
      ]
    },
    {
      "cell_type": "code",
      "metadata": {
        "colab": {
          "base_uri": "https://localhost:8080/"
        },
        "id": "_6fTdJd6J-bo",
        "outputId": "ddffa175-94ba-4823-e73b-a8e7749d08ff"
      },
      "source": [
        "# Forecasting (LinearRegression Model and can be extended to any model we will be using)\n",
        "fh_list = []\n",
        "pred = model.predict([data.loc[2969,:].values])\n",
        "fh_list.append(pred)\n",
        "\n",
        "for i in range(5):\n",
        "  pred = model.predict(pred)\n",
        "  fh_list.append(pred)\n",
        "\n",
        "fh_list"
      ],
      "execution_count": 135,
      "outputs": [
        {
          "output_type": "execute_result",
          "data": {
            "text/plain": [
              "[array([[ 20.93002037,  35.73998474, 328.96733925, 290.42110072,\n",
              "         534.87471414, 575.50633171, 597.4680537 , 744.60603609,\n",
              "         648.77555516, 771.45760689]]),\n",
              " array([[ 20.92996354,  35.73998728, 328.96176516, 290.67842382,\n",
              "         534.76621953, 575.88296308, 597.00284001, 744.20259253,\n",
              "         648.52615316, 770.90947335]]),\n",
              " array([[ 20.92985155,  35.73997825, 328.9630901 , 290.82482379,\n",
              "         534.67138333, 576.16604832, 596.58679025, 743.79302036,\n",
              "         648.26261008, 770.36289736]]),\n",
              " array([[ 20.92970058,  35.73994431, 328.96502891, 290.896587  ,\n",
              "         534.58610265, 576.38100407, 596.2073335 , 743.37967179,\n",
              "         647.99093714, 769.82159442]]),\n",
              " array([[ 20.92952272,  35.73988024, 328.96545806, 290.9185774 ,\n",
              "         534.50708974, 576.54587084, 595.8554473 , 742.96422317,\n",
              "         647.71489896, 769.28755485]]),\n",
              " array([[ 20.92932699,  35.73978532, 328.96362814, 290.90778373,\n",
              "         534.43201479, 576.67354464, 595.52462339, 742.54788085,\n",
              "         647.43699794, 768.76181173]])]"
            ]
          },
          "metadata": {
            "tags": []
          },
          "execution_count": 135
        }
      ]
    }
  ]
}