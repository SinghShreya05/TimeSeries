{
  "nbformat": 4,
  "nbformat_minor": 0,
  "metadata": {
    "colab": {
      "name": "Evaluation Metrics Sktime.ipynb",
      "provenance": [],
      "collapsed_sections": []
    },
    "kernelspec": {
      "display_name": "Python 3",
      "name": "python3"
    },
    "language_info": {
      "name": "python"
    }
  },
  "cells": [
    {
      "cell_type": "code",
      "metadata": {
        "id": "dGKbbxTu3_OA"
      },
      "source": [
        "import numpy as np"
      ],
      "execution_count": null,
      "outputs": []
    },
    {
      "cell_type": "code",
      "metadata": {
        "id": "Gagyzajw4rFi"
      },
      "source": [
        "a1 = np.array( [ 80, 76, 77, 78, 79, 81, 76, 77, 79, 84, 75, 79, 76, 78 ], dtype=float )\n",
        "a2 = np.array( [ 66, 69, 76, 72, 79, 77, 74, 77, 71, 79, 74, 66, 67, 78 ], dtype=float )       \n",
        "a3 = np.array( [ 66, 69, 76, 72, 79, 77, 74, 77, 71, 79, 74, 66, 67, 73 ], dtype=float )   \n",
        "a4 =  np.array( [ 80, 76, 77, 78, 79, 81, 76, 77, 79, 84, 75, 79, 76, 78 ], dtype=float ) "
      ],
      "execution_count": null,
      "outputs": []
    },
    {
      "cell_type": "code",
      "metadata": {
        "colab": {
          "base_uri": "https://localhost:8080/"
        },
        "id": "iJlXwWAhIlxQ",
        "outputId": "d1e8c8f4-df29-4d7b-aeb0-58bfde806159"
      },
      "source": [
        "series = [a1, a2, a3, a4]\n",
        "length = len(series)\n",
        "for i in range(length):\n",
        "  for j in range(i+1,length):\n",
        "    err = np.abs(series[i] - series[j])\n",
        "    log_err = np.log(err)\n",
        "    output_errors = np.exp(np.median(log_err))\n",
        "    print(\"for array\", series[i],\" and \", series[j])\n",
        "    print(output_errors)"
      ],
      "execution_count": null,
      "outputs": [
        {
          "output_type": "stream",
          "text": [
            "for array [80. 76. 77. 78. 79. 81. 76. 77. 79. 84. 75. 79. 76. 78.]  and  [66. 69. 76. 72. 79. 77. 74. 77. 71. 79. 74. 66. 67. 78.]\n",
            "4.472135954999579\n",
            "for array [80. 76. 77. 78. 79. 81. 76. 77. 79. 84. 75. 79. 76. 78.]  and  [66. 69. 76. 72. 79. 77. 74. 77. 71. 79. 74. 66. 67. 73.]\n",
            "4.999999999999999\n",
            "for array [80. 76. 77. 78. 79. 81. 76. 77. 79. 84. 75. 79. 76. 78.]  and  [80. 76. 77. 78. 79. 81. 76. 77. 79. 84. 75. 79. 76. 78.]\n",
            "0.0\n",
            "for array [66. 69. 76. 72. 79. 77. 74. 77. 71. 79. 74. 66. 67. 78.]  and  [66. 69. 76. 72. 79. 77. 74. 77. 71. 79. 74. 66. 67. 73.]\n",
            "0.0\n",
            "for array [66. 69. 76. 72. 79. 77. 74. 77. 71. 79. 74. 66. 67. 78.]  and  [80. 76. 77. 78. 79. 81. 76. 77. 79. 84. 75. 79. 76. 78.]\n",
            "4.472135954999579\n",
            "for array [66. 69. 76. 72. 79. 77. 74. 77. 71. 79. 74. 66. 67. 73.]  and  [80. 76. 77. 78. 79. 81. 76. 77. 79. 84. 75. 79. 76. 78.]\n",
            "4.999999999999999\n"
          ],
          "name": "stdout"
        },
        {
          "output_type": "stream",
          "text": [
            "/usr/local/lib/python3.7/dist-packages/ipykernel_launcher.py:6: RuntimeWarning: divide by zero encountered in log\n",
            "  \n"
          ],
          "name": "stderr"
        }
      ]
    },
    {
      "cell_type": "code",
      "metadata": {
        "colab": {
          "base_uri": "https://localhost:8080/"
        },
        "id": "ETzU7USUNOq2",
        "outputId": "0bf38fc4-48ef-4429-d7fa-115a8dabbe8b"
      },
      "source": [
        "np.abs(a1-a2)"
      ],
      "execution_count": null,
      "outputs": [
        {
          "output_type": "execute_result",
          "data": {
            "text/plain": [
              "array([14.,  7.,  1.,  6.,  0.,  4.,  2.,  0.,  8.,  5.,  1., 13.,  9.,\n",
              "        0.])"
            ]
          },
          "metadata": {
            "tags": []
          },
          "execution_count": 27
        }
      ]
    },
    {
      "cell_type": "code",
      "metadata": {
        "colab": {
          "base_uri": "https://localhost:8080/"
        },
        "id": "v1vdMI9wOFXC",
        "outputId": "24c733eb-34c5-4ede-cf8f-465d60e0c6a5"
      },
      "source": [
        "np.abs(a1-a3)"
      ],
      "execution_count": null,
      "outputs": [
        {
          "output_type": "execute_result",
          "data": {
            "text/plain": [
              "array([14.,  7.,  1.,  6.,  0.,  4.,  2.,  0.,  8.,  5.,  1., 13.,  9.,\n",
              "        5.])"
            ]
          },
          "metadata": {
            "tags": []
          },
          "execution_count": 28
        }
      ]
    },
    {
      "cell_type": "code",
      "metadata": {
        "colab": {
          "base_uri": "https://localhost:8080/"
        },
        "id": "GCXKEKuTo4TP",
        "outputId": "175e43cb-d697-493e-d1d6-bd641af30a1d"
      },
      "source": [
        "np.log(np.abs(a1-a3))"
      ],
      "execution_count": null,
      "outputs": [
        {
          "output_type": "stream",
          "text": [
            "/usr/local/lib/python3.7/dist-packages/ipykernel_launcher.py:1: RuntimeWarning: divide by zero encountered in log\n",
            "  \"\"\"Entry point for launching an IPython kernel.\n"
          ],
          "name": "stderr"
        },
        {
          "output_type": "execute_result",
          "data": {
            "text/plain": [
              "array([2.63905733, 1.94591015, 0.        , 1.79175947,       -inf,\n",
              "       1.38629436, 0.69314718,       -inf, 2.07944154, 1.60943791,\n",
              "       0.        , 2.56494936, 2.19722458, 1.60943791])"
            ]
          },
          "metadata": {
            "tags": []
          },
          "execution_count": 31
        }
      ]
    },
    {
      "cell_type": "markdown",
      "metadata": {
        "id": "ukFX1qf7vq7o"
      },
      "source": [
        "    Geometric Mean/Median Absolute Error\n",
        "\n",
        "    Parameters\n",
        "    ----------\n",
        "    y_true : pandas Series, pandas DataFrame or NumPy array of\n",
        "            shape (fh,) or (fh, n_outputs) where fh is the forecasting horizon\n",
        "        Ground truth (correct) target values.\n",
        "\n",
        "    y_pred : pandas Series, pandas DataFrame or NumPy array of\n",
        "            shape (fh,) or (fh, n_outputs) where fh is the forecasting horizon\n",
        "        Forecasted values.\n",
        "\n",
        "    y_pred_benchmark : pandas Series, pandas DataFrame or NumPy array of\n",
        "            shape (fh,) or (fh, n_outputs) where fh is the forecasting horizon\n",
        "        Forecasted values from benchmark method.\n",
        "\n",
        "    horizon_weight : array-like of shape (fh,), default=None\n",
        "        Forecast horizon weights.\n",
        "\n",
        "    multioutput : {'raw_values', 'uniform_average'}  or array-like of shape \\\n",
        "            (n_outputs,), default='uniform_average'\n",
        "        Defines aggregating of multiple output values.\n",
        "        Array-like value defines weights used to average errors.\n",
        "        If 'raw_values', returns a full set of errors in case of multioutput input.\n",
        "        If 'uniform_average', errors of all outputs are averaged with uniform weight.\n",
        "\n",
        "    symmetric : bool, default=False\n",
        "        Calculates symmetric version of metric if True.\n",
        "\n",
        "    Returns\n",
        "    -------\n",
        "    loss : float\n",
        "        GMAE loss.\n",
        "        If multioutput is 'raw_values', then MRAE is returned for each\n",
        "        output separately.\n",
        "        If multioutput is 'uniform_average' or an ndarray of weights, then the\n",
        "        weighted average MRAE of all output errors is returned.\n",
        "    \"\"\""
      ]
    },
    {
      "cell_type": "code",
      "metadata": {
        "id": "mu4kgk0wvd27"
      },
      "source": [
        "def geometric_median_absolute_error(\n",
        "    y_true, y_pred, horizon_weight=None, multioutput=\"uniform_average\", square_root=False, symmetric=False,\n",
        "):\n",
        "    _, y_true, y_pred, multioutput = _check_reg_targets(y_true, y_pred, multioutput)\n",
        "    if horizon_weight is not None:\n",
        "        check_consistent_length(y_true, horizon_weight)\n",
        "    try:\n",
        "        err = np.abs(y_true - y_pred)\n",
        "        log_err = np.log(err)\n",
        "        output_errors = np.exp(np.median(log_err))\n",
        "\n",
        "        if square_root:\n",
        "            output_errors = np.sqrt(output_errors)\n",
        "\n",
        "        if isinstance(multioutput, str):\n",
        "            if multioutput == \"raw_values\":\n",
        "            return output_errors\n",
        "        elif multioutput == \"uniform_average\":\n",
        "            # pass None as weights to np.average: uniform mean\n",
        "            multioutput = None\n",
        "\n",
        "        return np.average(output_errors, weights=multioutput)\n",
        "\n",
        "    except:\n",
        "        print(\"GeometricMedianAbsoluteError is undefined since two or more groups of corresponding values are same in the arguments passed.\")"
      ],
      "execution_count": null,
      "outputs": []
    },
    {
      "cell_type": "code",
      "metadata": {
        "id": "4I8d90LVwoMF"
      },
      "source": [
        "def geometric_mean_absolute_error(\n",
        "    y_true, y_pred, horizon_weight=None, multioutput=\"uniform_average\", square_root=False, symmetric=False,\n",
        "):  \n",
        "    _, y_true, y_pred, multioutput = _check_reg_targets(y_true, y_pred, multioutput)\n",
        "    if horizon_weight is not None:\n",
        "        check_consistent_length(y_true, horizon_weight)\n",
        "    try:\n",
        "        a = np.abs(y_true - y_pred)\n",
        "        log_a = np.log(a)\n",
        "        output_errors = np.exp(np.mean(log_a))\n",
        "\n",
        "        if square_root:\n",
        "            output_errors = np.sqrt(output_errors)\n",
        "\n",
        "        if isinstance(multioutput, str):\n",
        "            if multioutput == \"raw_values\":\n",
        "            return output_errors\n",
        "        elif multioutput == \"uniform_average\":\n",
        "            # pass None as weights to np.average: uniform mean\n",
        "            multioutput = None\n",
        "\n",
        "        return np.average(output_errors, weights=multioutput)\n",
        "\n",
        "    except:\n",
        "        print(\"GeometricMeanAbsoluteError is undefined since two or more groups of corresponding values are same in the arguments passed.\")\n"
      ],
      "execution_count": null,
      "outputs": []
    },
    {
      "cell_type": "code",
      "metadata": {
        "id": "izlbMnUE0jVB"
      },
      "source": [
        "class GeometricMeanAbsoluteError(_ScaledMetricFunctionWrapper):\n",
        "\n",
        "    def __init__(self):\n",
        "        name = \"GeometricMeanAbsoluteError\"\n",
        "        fn = geometric_mean_absolute_error\n",
        "        greater_is_better = False\n",
        "        super(GeometricMeanAbsoluteError, self).__init__(\n",
        "            fn=fn, name=name, greater_is_better=greater_is_better\n",
        "        )\n",
        "\n",
        "class GeometricMedianAbsoluteError(_ScaledMetricFunctionWrapper):\n",
        "\n",
        "    def __init__(self):\n",
        "        name = \"GeometricMedianAbsoluteError\"\n",
        "        fn = geometric_median_absolute_error\n",
        "        greater_is_better = False\n",
        "        super(GeometricMedianAbsoluteError, self).__init__(\n",
        "            fn=fn, name=name, greater_is_better=greater_is_better\n",
        "        )\n"
      ],
      "execution_count": null,
      "outputs": []
    }
  ]
}